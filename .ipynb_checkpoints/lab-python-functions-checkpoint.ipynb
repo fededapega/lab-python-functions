{
 "cells": [
  {
   "cell_type": "markdown",
   "id": "25d7736c-ba17-4aff-b6bb-66eba20fbf4e",
   "metadata": {},
   "source": [
    "# Lab | Functions"
   ]
  },
  {
   "cell_type": "markdown",
   "id": "0c581062-8967-4d93-b06e-62833222f930",
   "metadata": {
    "tags": []
   },
   "source": [
    "## Exercise: Managing Customer Orders with Functions\n",
    "\n",
    "In the previous exercise, you improved the code for managing customer orders by using loops and flow control. Now, let's take it a step further and refactor the code by introducing functions.\n",
    "\n",
    "Follow the steps below to complete the exercise:\n",
    "\n",
    "1. Define a function named `initialize_inventory` that takes `products` as a parameter. Inside the function, implement the code for initializing the inventory dictionary using a loop and user input.\n",
    "\n",
    "2. Define a function named `get_customer_orders` that takes no parameters. Inside the function, implement the code for prompting the user to enter the product names using a loop. The function should return the `customer_orders` set.\n",
    "\n",
    "3. Define a function named `update_inventory` that takes `customer_orders` and `inventory` as parameters. Inside the function, implement the code for updating the inventory dictionary based on the customer orders.\n",
    "\n",
    "4. Define a function named `calculate_order_statistics` that takes `customer_orders` and `products` as parameters. Inside the function, implement the code for calculating the order statistics (total products ordered, and percentage of unique products ordered). The function should return these values.\n",
    "\n",
    "5. Define a function named `print_order_statistics` that takes `order_statistics` as a parameter. Inside the function, implement the code for printing the order statistics.\n",
    "\n",
    "6. Define a function named `print_updated_inventory` that takes `inventory` as a parameter. Inside the function, implement the code for printing the updated inventory.\n",
    "\n",
    "7. Call the functions in the appropriate sequence to execute the program and manage customer orders.\n",
    "\n",
    "Hints for functions:\n",
    "\n",
    "- Consider the input parameters required for each function and their return values.\n",
    "- Utilize function parameters and return values to transfer data between functions.\n",
    "- Test your functions individually to ensure they work correctly.\n",
    "\n",
    "\n"
   ]
  },
  {
   "cell_type": "code",
   "execution_count": 1,
   "id": "b9f212f2",
   "metadata": {},
   "outputs": [],
   "source": [
    "#Define a function named initialize_inventory that takes products as a parameter. \n",
    "#Inside the function, implement the code for initializing the inventory dictionary using a loop and user input."
   ]
  },
  {
   "cell_type": "code",
   "execution_count": 2,
   "id": "da73bf72",
   "metadata": {},
   "outputs": [],
   "source": [
    "products = [\"t-shirt\", \"mug\", \"hat\", \"book\", \"keychain\"]\n"
   ]
  },
  {
   "cell_type": "code",
   "execution_count": 3,
   "id": "0ef26dee",
   "metadata": {},
   "outputs": [
    {
     "name": "stdout",
     "output_type": "stream",
     "text": [
      "How many of t-shirt are there: 5\n",
      "How many of mug are there: 5\n",
      "How many of hat are there: 5\n",
      "How many of book are there: 5\n",
      "How many of keychain are there: 5\n"
     ]
    },
    {
     "data": {
      "text/plain": [
       "{'t-shirt': 5, 'mug': 5, 'hat': 5, 'book': 5, 'keychain': 5}"
      ]
     },
     "execution_count": 3,
     "metadata": {},
     "output_type": "execute_result"
    }
   ],
   "source": [
    "#we're creating an inventory so we need a product and its quantity, therefore we create a dictionary\n",
    "#a dictionary has a key and a value, called a key-value pair or an item.\n",
    "inventory = {}\n",
    "\n",
    "#this is our function named initialize_inventory that takes products as a parameter\n",
    "def initialize_inventory(products):\n",
    "    \n",
    "    #I'm iterating over my products list to ask the user to go one by one and enter the amount\n",
    "    #of product there is per each product. That number that the user enters needs to be stored somewhere.\n",
    "    for product in products:\n",
    "    \n",
    "        #ask user how many are there and store in user_input. Ensure it's an integer.\n",
    "        user_input = int(input(f\"How many of {product} are there: \"))\n",
    "        \n",
    "        #since my \"inventory\" is an empty dictionary {}, I need to assign the value of my key. \n",
    "        #(product:user_input)\n",
    "        inventory[product] = user_input\n",
    "        #since I'm iterating over each product in products list, product goes in brackets and the result is \n",
    "        #what is assigned to that product.\n",
    "    \n",
    "    #every function ends with \"return\". return says give me this. So when you call the function, it\n",
    "    # gives you that.\n",
    "    return inventory\n",
    "\n",
    "initialize_inventory(products)\n",
    "\n"
   ]
  },
  {
   "cell_type": "code",
   "execution_count": 4,
   "id": "fac374f5",
   "metadata": {},
   "outputs": [],
   "source": [
    "products = [\"t-shirt\", \"mug\", \"hat\", \"book\", \"keychain\"]\n"
   ]
  },
  {
   "cell_type": "code",
   "execution_count": 5,
   "id": "0e40ca30",
   "metadata": {},
   "outputs": [
    {
     "data": {
      "text/plain": [
       "{'t-shirt': 5, 'mug': 5, 'hat': 5, 'book': 5, 'keychain': 5}"
      ]
     },
     "execution_count": 5,
     "metadata": {},
     "output_type": "execute_result"
    }
   ],
   "source": [
    "inventory"
   ]
  },
  {
   "cell_type": "code",
   "execution_count": 6,
   "id": "65c02c96",
   "metadata": {},
   "outputs": [
    {
     "name": "stdout",
     "output_type": "stream",
     "text": [
      "do you want a product?yes\n",
      "What product do you want? We have these ['t-shirt', 'mug', 'hat', 'book', 'keychain']book\n",
      "do you want a product?no\n",
      "you've orderd the following {'book'}\n",
      "it should ship in 2 - 3 days\n"
     ]
    },
    {
     "data": {
      "text/plain": [
       "{'book'}"
      ]
     },
     "execution_count": 6,
     "metadata": {},
     "output_type": "execute_result"
    }
   ],
   "source": [
    "customer_orders = set()\n",
    "\n",
    "#as stated: \"Define a function named get_customer_orders that takes no parameters\"\n",
    "def get_customer_orders():\n",
    "#Inside the function, implement the code for prompting the user to enter the product names using a loop\n",
    "# so, we're going to ask the user if they want a product and if they do, we then ask what product \n",
    "#do you want. We can't use a for loop because it will iterate on every product. We need instead a WHILE loop\n",
    "# because we need to ask until the user doesn't want anything else. \n",
    "\n",
    "# The logic for a while loop is: \"while (whatever you write after is true):\"\n",
    "    while True:\n",
    "        #what product do you want\n",
    "        ask0_user = input(\"do you want a product?\")\n",
    "        \n",
    "        #check for validity>>>\n",
    "        if ask0_user == \"yes\":\n",
    "            \n",
    "            #if its \"yes\", what product do you want>>>\n",
    "            ask_user = input(f\"What product do you want? We have these {products}\")\n",
    "            \n",
    "            #check for validity>>>\n",
    "            # it has to be a while loop and not an if statement because the user needs to input\n",
    "            # a product until user gets it right.\n",
    "            while ask_user.lower() not in products:\n",
    "                \n",
    "                # we dont have it\n",
    "                print(f\"we don't have that in stock. We have these {products}\")\n",
    "                \n",
    "                #again, what do you want\n",
    "                ask_user = input(f\"What product do you want?\")\n",
    "            \n",
    "            #since we're asking: while (you input the wrong info) >> we tell you we dont have it and ask you again\n",
    "            #until you answer it correctly and then we have to store it somewhere.\n",
    "            #that's why we created an empty set so we add user input there.\n",
    "            # we use the .add() function and indent it with the while loop\n",
    "            customer_orders.add(ask_user)\n",
    "            \n",
    "        #if its no, BREAK <<<< ends the WHILE loop\n",
    "        elif ask0_user == \"no\":\n",
    "            break\n",
    "            \n",
    "        #if its neither no nor yes, print that it's an error. Since its inside the while loop, it'll\n",
    "        # ask it until the input is valid.\n",
    "        else:\n",
    "            print(\"it's either yes or no\")\n",
    "    \n",
    "    print(f\"you've orderd the following {customer_orders}\")\n",
    "    \n",
    "    print(f\"it should ship in 2 - 3 days\")\n",
    "    return customer_orders\n",
    "\n",
    "#calling the function                          \n",
    "get_customer_orders()"
   ]
  },
  {
   "cell_type": "code",
   "execution_count": 7,
   "id": "14d8740a",
   "metadata": {},
   "outputs": [
    {
     "data": {
      "text/plain": [
       "{'book'}"
      ]
     },
     "execution_count": 7,
     "metadata": {},
     "output_type": "execute_result"
    }
   ],
   "source": [
    "customer_orders"
   ]
  },
  {
   "cell_type": "code",
   "execution_count": 8,
   "id": "e273adfb",
   "metadata": {},
   "outputs": [
    {
     "data": {
      "text/plain": [
       "{'t-shirt': 5, 'mug': 5, 'hat': 5, 'book': 5, 'keychain': 5}"
      ]
     },
     "execution_count": 8,
     "metadata": {},
     "output_type": "execute_result"
    }
   ],
   "source": [
    "inventory"
   ]
  },
  {
   "cell_type": "code",
   "execution_count": 9,
   "id": "bd60037e",
   "metadata": {},
   "outputs": [],
   "source": [
    "# Define a function named update_inventory that takes customer_orders and inventory as parameters\n",
    "# Inside the function, implement the code for updating the inventory dictionary based on the customer orders."
   ]
  },
  {
   "cell_type": "code",
   "execution_count": 10,
   "id": "9fba7a6e",
   "metadata": {},
   "outputs": [
    {
     "data": {
      "text/plain": [
       "{'t-shirt': 5, 'mug': 5, 'hat': 5, 'book': 4, 'keychain': 5}"
      ]
     },
     "execution_count": 10,
     "metadata": {},
     "output_type": "execute_result"
    }
   ],
   "source": [
    "# as stated: Define a function named update_inventory that takes customer_orders and inventory as parameters\n",
    "# x are my customer_orders and y is my inventory\n",
    "def update_inventory(x,y):\n",
    "    \n",
    "    # so my customer_orders or x need to update my inventory dictionary or y\n",
    "    # for each of my customer_orders\n",
    "    for each in x:\n",
    "        \n",
    "        # if my customers_orders are reflected in my inventory\n",
    "        if each in y:\n",
    "            \n",
    "            #subtract each customer_order from my inventory if its there\n",
    "            y[each] -=1\n",
    "            \n",
    "        else:\n",
    "            #if it's not there, someone ordered something we don't have in stock\n",
    "            print(f\"product ordered is not in inventory\")\n",
    "    # give me my updated inventory       \n",
    "    return y\n",
    "\n",
    "update_inventory(customer_orders,inventory)"
   ]
  },
  {
   "cell_type": "code",
   "execution_count": 11,
   "id": "1e539cfc",
   "metadata": {},
   "outputs": [],
   "source": [
    "#Define a function named calculate_order_statistics that takes customer_orders and products as parameters.\n",
    "#Inside the function, implement the code for calculating the order statistics\n",
    "#(total products ordered, and percentage of unique products ordered).\n",
    "# The function should return these values."
   ]
  },
  {
   "cell_type": "code",
   "execution_count": 19,
   "id": "5911cd71",
   "metadata": {},
   "outputs": [
    {
     "data": {
      "text/plain": [
       "(1, 5.26)"
      ]
     },
     "execution_count": 19,
     "metadata": {},
     "output_type": "execute_result"
    }
   ],
   "source": [
    "# as stated:Define a function named calculate_order_statistics that takes \n",
    "# customer_orders and products as parameters\n",
    "# x is customer_orders and y is inventory\n",
    "def calculate_order_statistics(x,y):\n",
    " \n",
    "    # count of products ordered \n",
    "    totalcustorder = len(customer_orders)\n",
    "    \n",
    "    #total amount of products in my inventory\n",
    "    a = sum(inventory.values())\n",
    "    \n",
    "    # calculate my popo = percentage of products ordered\n",
    "    popo = (totalcustorder/a)*100\n",
    "    \n",
    "    # round it to two decimal places with the round() function\n",
    "    poporounded = round(popo,2)\n",
    "    \n",
    "    return totalcustorder,poporounded\n",
    "\n",
    "stats = calculate_order_statistics(customer_orders,inventory)\n",
    "stats\n"
   ]
  },
  {
   "cell_type": "code",
   "execution_count": 13,
   "id": "3c1b5609",
   "metadata": {},
   "outputs": [],
   "source": [
    "#Define a function named print_order_statistics that takes order_statistics as a parameter.\n",
    "#Inside the function, implement the code for printing the order statistics.\n",
    "\n"
   ]
  },
  {
   "cell_type": "code",
   "execution_count": 14,
   "id": "272f9d94",
   "metadata": {},
   "outputs": [
    {
     "name": "stdout",
     "output_type": "stream",
     "text": [
      "(1, 4.17)\n"
     ]
    }
   ],
   "source": [
    "def print_order_statistics(a):\n",
    "   print(stats)\n",
    "\n",
    "print_order_statistics(stats)"
   ]
  },
  {
   "cell_type": "code",
   "execution_count": 15,
   "id": "1d3aff59",
   "metadata": {},
   "outputs": [],
   "source": [
    "#Define a function named print_updated_inventory that takes inventory as a parameter.\n",
    "#Inside the function, implement the code for printing the updated inventory.\n"
   ]
  },
  {
   "cell_type": "code",
   "execution_count": 16,
   "id": "4abbfb32",
   "metadata": {},
   "outputs": [
    {
     "name": "stdout",
     "output_type": "stream",
     "text": [
      "{'t-shirt': 5, 'mug': 5, 'hat': 5, 'book': 4, 'keychain': 5}\n"
     ]
    }
   ],
   "source": [
    "def print_updated_inventory(x):\n",
    "    print(x)\n",
    "    \n",
    "print_updated_inventory(inventory)"
   ]
  },
  {
   "cell_type": "code",
   "execution_count": 18,
   "id": "601b65fd",
   "metadata": {},
   "outputs": [
    {
     "name": "stdout",
     "output_type": "stream",
     "text": [
      "How many of t-shirt are there: 4\n",
      "How many of mug are there: 4\n",
      "How many of hat are there: 4\n",
      "How many of book are there: 4\n",
      "How many of keychain are there: 4\n",
      "do you want a product?yes\n",
      "What product do you want? We have these ['t-shirt', 'mug', 'hat', 'book', 'keychain']hat\n",
      "do you want a product?no\n",
      "you've orderd the following {'hat'}\n",
      "it should ship in 2 - 3 days\n",
      "(1, 4.17)\n",
      "{'t-shirt': 4, 'mug': 4, 'hat': 3, 'book': 4, 'keychain': 4}\n"
     ]
    }
   ],
   "source": [
    "customer_orders = set()\n",
    "products = [\"t-shirt\", \"mug\", \"hat\", \"book\", \"keychain\"]\n",
    "inventory = {}\n",
    "\n",
    "\n",
    "initialize_inventory(products)\n",
    "get_customer_orders()\n",
    "update_inventory(customer_orders,inventory)\n",
    "calculate_order_statistics(customer_orders,inventory)\n",
    "print_order_statistics(stats)\n",
    "print_updated_inventory(inventory)"
   ]
  },
  {
   "cell_type": "code",
   "execution_count": null,
   "id": "cdfd9159",
   "metadata": {},
   "outputs": [],
   "source": []
  }
 ],
 "metadata": {
  "kernelspec": {
   "display_name": "Python 3 (ipykernel)",
   "language": "python",
   "name": "python3"
  },
  "language_info": {
   "codemirror_mode": {
    "name": "ipython",
    "version": 3
   },
   "file_extension": ".py",
   "mimetype": "text/x-python",
   "name": "python",
   "nbconvert_exporter": "python",
   "pygments_lexer": "ipython3",
   "version": "3.11.5"
  }
 },
 "nbformat": 4,
 "nbformat_minor": 5
}
